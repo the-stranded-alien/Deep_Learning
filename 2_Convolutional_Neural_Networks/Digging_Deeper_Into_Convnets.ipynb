{
 "cells": [
  {
   "cell_type": "markdown",
   "metadata": {},
   "source": [
    "## Convolutional Neural Networks\n",
    "\n",
    " - Understanding CNN's Better\n",
    " - Building A Small Convnet To Classify MNIST Dataset "
   ]
  },
  {
   "cell_type": "code",
   "execution_count": 1,
   "metadata": {},
   "outputs": [
    {
     "name": "stderr",
     "output_type": "stream",
     "text": [
      "Using TensorFlow backend.\n"
     ]
    }
   ],
   "source": [
    "import numpy as np\n",
    "import matplotlib.pyplot as plt\n",
    "from keras.layers import *\n",
    "from keras.models import Sequential\n",
    "from keras.datasets import mnist\n",
    "from keras.utils import to_categorical"
   ]
  },
  {
   "cell_type": "markdown",
   "metadata": {},
   "source": [
    "### Loading And Preprocessing Data"
   ]
  },
  {
   "cell_type": "code",
   "execution_count": 2,
   "metadata": {},
   "outputs": [],
   "source": [
    "(XTrain, YTrain), (XTest, YTest) = mnist.load_data()"
   ]
  },
  {
   "cell_type": "code",
   "execution_count": 3,
   "metadata": {},
   "outputs": [],
   "source": [
    "def preprocess_data(X, Y):\n",
    "    X = X.reshape((-1,28,28,1))\n",
    "    X = X/255.0\n",
    "    Y = to_categorical(Y)\n",
    "    return X, Y"
   ]
  },
  {
   "cell_type": "code",
   "execution_count": 4,
   "metadata": {},
   "outputs": [
    {
     "name": "stdout",
     "output_type": "stream",
     "text": [
      "(60000, 28, 28, 1) (60000, 10)\n",
      "(10000, 28, 28, 1) (10000, 10)\n"
     ]
    }
   ],
   "source": [
    "XTrain, YTrain = preprocess_data(XTrain, YTrain)\n",
    "print(XTrain.shape, YTrain.shape)\n",
    "\n",
    "XTest, YTest = preprocess_data(XTest, YTest)\n",
    "print(XTest.shape, YTest.shape)"
   ]
  },
  {
   "cell_type": "markdown",
   "metadata": {},
   "source": [
    "### Build A Model"
   ]
  },
  {
   "cell_type": "code",
   "execution_count": 5,
   "metadata": {},
   "outputs": [
    {
     "name": "stdout",
     "output_type": "stream",
     "text": [
      "Model: \"sequential_1\"\n",
      "_________________________________________________________________\n",
      "Layer (type)                 Output Shape              Param #   \n",
      "=================================================================\n",
      "conv2d_1 (Conv2D)            (None, 26, 26, 32)        320       \n",
      "_________________________________________________________________\n",
      "max_pooling2d_1 (MaxPooling2 (None, 13, 13, 32)        0         \n",
      "_________________________________________________________________\n",
      "conv2d_2 (Conv2D)            (None, 11, 11, 64)        18496     \n",
      "_________________________________________________________________\n",
      "max_pooling2d_2 (MaxPooling2 (None, 5, 5, 64)          0         \n",
      "_________________________________________________________________\n",
      "conv2d_3 (Conv2D)            (None, 3, 3, 64)          36928     \n",
      "_________________________________________________________________\n",
      "flatten_1 (Flatten)          (None, 576)               0         \n",
      "_________________________________________________________________\n",
      "dense_1 (Dense)              (None, 64)                36928     \n",
      "_________________________________________________________________\n",
      "dense_2 (Dense)              (None, 10)                650       \n",
      "=================================================================\n",
      "Total params: 93,322\n",
      "Trainable params: 93,322\n",
      "Non-trainable params: 0\n",
      "_________________________________________________________________\n"
     ]
    }
   ],
   "source": [
    "model = Sequential()\n",
    "model.add(Conv2D(32,(3,3),activation='relu',input_shape=(28,28,1)))\n",
    "model.add(MaxPool2D((2,2)))\n",
    "model.add(Conv2D(64,(3,3),activation='relu',input_shape=(28,28,1)))\n",
    "model.add(MaxPool2D((2,2)))\n",
    "model.add(Conv2D(64,(3,3),activation='relu',input_shape=(28,28,1)))\n",
    "model.add(Flatten())\n",
    "model.add(Dense(64, activation='relu'))\n",
    "model.add(Dense(10, activation='softmax'))\n",
    "model.summary()"
   ]
  },
  {
   "cell_type": "markdown",
   "metadata": {},
   "source": [
    "### Model Compilation and Training"
   ]
  },
  {
   "cell_type": "code",
   "execution_count": 6,
   "metadata": {},
   "outputs": [
    {
     "name": "stdout",
     "output_type": "stream",
     "text": [
      "Train on 54000 samples, validate on 6000 samples\n",
      "Epoch 1/6\n",
      "54000/54000 [==============================] - 37s 678us/step - loss: 0.2895 - accuracy: 0.9143 - val_loss: 0.0680 - val_accuracy: 0.9812\n",
      "Epoch 2/6\n",
      "54000/54000 [==============================] - 36s 673us/step - loss: 0.0640 - accuracy: 0.9803 - val_loss: 0.0506 - val_accuracy: 0.9863\n",
      "Epoch 3/6\n",
      "54000/54000 [==============================] - 36s 675us/step - loss: 0.0451 - accuracy: 0.9855 - val_loss: 0.0453 - val_accuracy: 0.9877\n",
      "Epoch 4/6\n",
      "54000/54000 [==============================] - 36s 675us/step - loss: 0.0350 - accuracy: 0.9890 - val_loss: 0.0392 - val_accuracy: 0.9897\n",
      "Epoch 5/6\n",
      "54000/54000 [==============================] - 36s 673us/step - loss: 0.0296 - accuracy: 0.9900 - val_loss: 0.0369 - val_accuracy: 0.9898\n",
      "Epoch 6/6\n",
      "54000/54000 [==============================] - 36s 672us/step - loss: 0.0239 - accuracy: 0.9924 - val_loss: 0.0369 - val_accuracy: 0.9902\n"
     ]
    }
   ],
   "source": [
    "model.compile(optimizer=\"adam\", loss=\"categorical_crossentropy\", metrics=['accuracy'])\n",
    "hist = model.fit(XTrain, YTrain, epochs=6, validation_split=0.1, batch_size=128)"
   ]
  },
  {
   "cell_type": "code",
   "execution_count": 7,
   "metadata": {},
   "outputs": [
    {
     "name": "stdout",
     "output_type": "stream",
     "text": [
      "10000/10000 [==============================] - 2s 238us/step\n",
      "\n",
      "Testing Accuracy :  99.01 %\n"
     ]
    }
   ],
   "source": [
    "test_loss, test_acc = model.evaluate(XTest, YTest)\n",
    "print(\"\\nTesting Accuracy : \", round(100*test_acc, 2), \"%\")"
   ]
  },
  {
   "cell_type": "code",
   "execution_count": 8,
   "metadata": {},
   "outputs": [
    {
     "name": "stdout",
     "output_type": "stream",
     "text": [
      "60000/60000 [==============================] - 18s 296us/step\n",
      "\n",
      "Training Accuracy :  99.45 %\n"
     ]
    }
   ],
   "source": [
    "train_loss, train_acc = model.evaluate(XTrain, YTrain)\n",
    "print(\"\\nTraining Accuracy : \", round(100*train_acc, 2), \"%\")"
   ]
  },
  {
   "cell_type": "code",
   "execution_count": 9,
   "metadata": {},
   "outputs": [
    {
     "data": {
      "image/png": "[encoded data removed]",
      "text/plain": [
       "<Figure size 1080x360 with 2 Axes>"
      ]
     },
     "metadata": {
      "needs_background": "light"
     },
     "output_type": "display_data"
    }
   ],
   "source": [
    "train_acc = hist.history[\"accuracy\"]\n",
    "valid_acc = hist.history[\"val_accuracy\"]\n",
    "train_loss = hist.history[\"loss\"]\n",
    "valid_loss = hist.history[\"val_loss\"]\n",
    "\n",
    "plt.figure(figsize=(15,5))\n",
    "plt.subplot(1,2,1)\n",
    "plt.plot(train_acc, label=\"Training Accuracy\", color=\"green\")\n",
    "plt.plot(valid_acc, label=\"Validation Accuracy\", color=\"orange\")\n",
    "plt.legend()\n",
    "plt.title(\"Training And Validation Accuracies\")\n",
    "plt.subplot(1,2,2)\n",
    "plt.plot(train_loss, label=\"Training Loss\", color=\"blue\")\n",
    "plt.plot(valid_loss, label=\"Validation Loss\", color=\"red\")\n",
    "plt.legend()\n",
    "plt.title(\"Training And Validation Losses\")\n",
    "plt.tight_layout()\n",
    "plt.show()"
   ]
  },
  {
   "cell_type": "markdown",
   "metadata": {},
   "source": [
    "### Making The Final Model And Training It With 100% Data"
   ]
  },
  {
   "cell_type": "code",
   "execution_count": 10,
   "metadata": {},
   "outputs": [
    {
     "name": "stdout",
     "output_type": "stream",
     "text": [
      "Model: \"sequential_2\"\n",
      "_________________________________________________________________\n",
      "Layer (type)                 Output Shape              Param #   \n",
      "=================================================================\n",
      "conv2d_4 (Conv2D)            (None, 26, 26, 32)        320       \n",
      "_________________________________________________________________\n",
      "max_pooling2d_3 (MaxPooling2 (None, 13, 13, 32)        0         \n",
      "_________________________________________________________________\n",
      "conv2d_5 (Conv2D)            (None, 11, 11, 64)        18496     \n",
      "_________________________________________________________________\n",
      "max_pooling2d_4 (MaxPooling2 (None, 5, 5, 64)          0         \n",
      "_________________________________________________________________\n",
      "conv2d_6 (Conv2D)            (None, 3, 3, 64)          36928     \n",
      "_________________________________________________________________\n",
      "flatten_2 (Flatten)          (None, 576)               0         \n",
      "_________________________________________________________________\n",
      "dense_3 (Dense)              (None, 64)                36928     \n",
      "_________________________________________________________________\n",
      "dense_4 (Dense)              (None, 10)                650       \n",
      "=================================================================\n",
      "Total params: 93,322\n",
      "Trainable params: 93,322\n",
      "Non-trainable params: 0\n",
      "_________________________________________________________________\n"
     ]
    }
   ],
   "source": [
    "model_final = Sequential()\n",
    "model_final.add(Conv2D(32,(3,3),activation='relu',input_shape=(28,28,1)))\n",
    "model_final.add(MaxPool2D((2,2)))\n",
    "model_final.add(Conv2D(64,(3,3),activation='relu',input_shape=(28,28,1)))\n",
    "model_final.add(MaxPool2D((2,2)))\n",
    "model_final.add(Conv2D(64,(3,3),activation='relu',input_shape=(28,28,1)))\n",
    "model_final.add(Flatten())\n",
    "model_final.add(Dense(64, activation='relu'))\n",
    "model_final.add(Dense(10, activation='softmax'))\n",
    "model_final.summary()"
   ]
  },
  {
   "cell_type": "code",
   "execution_count": 11,
   "metadata": {},
   "outputs": [
    {
     "name": "stdout",
     "output_type": "stream",
     "text": [
      "Epoch 1/7\n",
      "60000/60000 [==============================] - 40s 659us/step - loss: 0.2529 - accuracy: 0.9236\n",
      "Epoch 2/7\n",
      "60000/60000 [==============================] - 39s 653us/step - loss: 0.0596 - accuracy: 0.9821\n",
      "Epoch 3/7\n",
      "60000/60000 [==============================] - 39s 655us/step - loss: 0.0425 - accuracy: 0.9868\n",
      "Epoch 4/7\n",
      "60000/60000 [==============================] - 39s 654us/step - loss: 0.0331 - accuracy: 0.9896\n",
      "Epoch 5/7\n",
      "60000/60000 [==============================] - 39s 651us/step - loss: 0.0270 - accuracy: 0.9915\n",
      "Epoch 6/7\n",
      "60000/60000 [==============================] - 39s 654us/step - loss: 0.0231 - accuracy: 0.9930\n",
      "Epoch 7/7\n",
      "60000/60000 [==============================] - 39s 656us/step - loss: 0.0183 - accuracy: 0.9941\n"
     ]
    }
   ],
   "source": [
    "model_final.compile(optimizer=\"adam\", loss=\"categorical_crossentropy\", metrics=['accuracy'])\n",
    "hist = model_final.fit(XTrain, YTrain, epochs=7, batch_size=128)"
   ]
  },
  {
   "cell_type": "code",
   "execution_count": 12,
   "metadata": {},
   "outputs": [
    {
     "name": "stdout",
     "output_type": "stream",
     "text": [
      "10000/10000 [==============================] - 3s 274us/step\n",
      "\n",
      "Testing Accuracy :  98.95 %\n"
     ]
    }
   ],
   "source": [
    "test_loss, test_acc = model_final.evaluate(XTest, YTest)\n",
    "print(\"\\nTesting Accuracy : \", round(100*test_acc, 2), \"%\")"
   ]
  },
  {
   "cell_type": "code",
   "execution_count": 13,
   "metadata": {},
   "outputs": [
    {
     "name": "stdout",
     "output_type": "stream",
     "text": [
      "60000/60000 [==============================] - 20s 334us/step\n",
      "\n",
      "Training Accuracy :  99.45 %\n"
     ]
    }
   ],
   "source": [
    "train_loss, train_acc = model.evaluate(XTrain, YTrain)\n",
    "print(\"\\nTraining Accuracy : \", round(100*train_acc, 2), \"%\")"
   ]
  },
  {
   "cell_type": "code",
   "execution_count": 14,
   "metadata": {},
   "outputs": [
    {
     "data": {
      "image/png": "[encoded data removed]",
      "text/plain": [
       "<Figure size 1080x360 with 2 Axes>"
      ]
     },
     "metadata": {
      "needs_background": "light"
     },
     "output_type": "display_data"
    }
   ],
   "source": [
    "train_acc = hist.history[\"accuracy\"]\n",
    "train_loss = hist.history[\"loss\"]\n",
    "\n",
    "plt.figure(figsize=(15,5))\n",
    "plt.subplot(1,2,1)\n",
    "plt.plot(train_acc, label=\"Training Accuracy\", color=\"green\")\n",
    "plt.legend()\n",
    "plt.title(\"Training Accuracy vs Epochs\")\n",
    "plt.subplot(1,2,2)\n",
    "plt.plot(train_loss, label=\"Training Loss\", color=\"blue\")\n",
    "plt.legend()\n",
    "plt.title(\"Training Loss vs Epochs\")\n",
    "plt.tight_layout()\n",
    "plt.show()"
   ]
  }
 ],
 "metadata": {
  "kernelspec": {
   "display_name": "Python 3",
   "language": "python",
   "name": "python3"
  },
  "language_info": {
   "codemirror_mode": {
    "name": "ipython",
    "version": 3
   },
   "file_extension": ".py",
   "mimetype": "text/x-python",
   "name": "python",
   "nbconvert_exporter": "python",
   "pygments_lexer": "ipython3",
   "version": "3.7.7"
  }
 },
 "nbformat": 4,
 "nbformat_minor": 2
}
